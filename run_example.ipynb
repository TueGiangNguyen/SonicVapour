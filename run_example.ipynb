{
 "cells": [
  {
   "cell_type": "code",
   "execution_count": 1,
   "id": "aec0252d-4f66-4729-a80a-ed1088698ba1",
   "metadata": {},
   "outputs": [],
   "source": [
    "# read data to initialize model starting with input text file\n",
    "input_file_name = 'run_example.txt' ### IMPORTANT, file name that will be used for the run\n",
    "myTP = 'adiabatic' ### IMPORTANT, must set before run: choices are adiabatic or isothermal"
   ]
  },
  {
   "cell_type": "code",
   "execution_count": 2,
   "id": "45511b68-3c07-4d16-99d3-08a954f4eedd",
   "metadata": {},
   "outputs": [],
   "source": [
    "import os\n",
    "import sys\n",
    "import numpy as np\n",
    "import matplotlib.pyplot as plt\n",
    "import math as mt\n",
    "import time\n",
    "\n",
    "home = os.getcwd()\n",
    "os.chdir(home+'/CoreCode')\n",
    "\n",
    "import mylibrary as mylib\n",
    "import mylibrary2 as mylib2"
   ]
  },
  {
   "cell_type": "code",
   "execution_count": 3,
   "id": "a26257a3-fb27-45c5-855b-7e3a4dac1baf",
   "metadata": {},
   "outputs": [
    {
     "name": "stdout",
     "output_type": "stream",
     "text": [
      "EVERYTHING GOOD TO START WITH\n"
     ]
    }
   ],
   "source": [
    "master_time_start = time.time()\n",
    "\n",
    "# read data to initialize model starting with input text file\n",
    "runparams = mylib2.read_input(input_file_name,home)\n",
    "# read planetary parameters\n",
    "os.chdir(home+'/data/planetparams')\n",
    "sysparams = mylib2.read_parameterdata(runparams)\n",
    "sysparams['geof'] = runparams['geof']\n",
    "os.chdir(home+'/data/mycomps')\n",
    "# read composition data\n",
    "runparams['names'],sysparams['Pv_coefs'] = mylib2.read_Pv('BSE.txt',runparams)\n",
    "# read RT data\n",
    "if runparams['RT_factor'] == 0:\n",
    "    sysparams['Tspace'],sysparams['molespace'],sysparams['RCtable'],sysparams['stelabsvec'] = np.random.rand(5,5),np.random.rand(5,5),np.random.rand(5,5),np.random.rand(5,5)\n",
    "else:\n",
    "    os.chdir(home+'/data/RTdata/{s}'.format(s=runparams['planet_name']))\n",
    "    sysparams['Tspace'],sysparams['molespace'],sysparams['RCtable'],sysparams['stelabsvec'] = mylib2.read_RT(runparams)\n",
    "# read Cp data\n",
    "os.chdir(home+'/data')\n",
    "sysparams['mass_mole'],runparams['Cp_vector'],runparams = mylib2.read_Cp(runparams['names'],runparams)\n",
    "runparams['TP'] = myTP\n",
    "\n",
    "print('EVERYTHING GOOD TO START WITH')"
   ]
  },
  {
   "cell_type": "code",
   "execution_count": 4,
   "id": "5fcd2238-a1ee-4c12-a3af-3358abac5159",
   "metadata": {},
   "outputs": [
    {
     "name": "stdout",
     "output_type": "stream",
     "text": [
      "loop 20, furthest theta = 16.01\n",
      "time elapsed is 47.58 seconds\n"
     ]
    }
   ],
   "source": [
    "time_start = time.time()\n",
    "\n",
    "runparams['varnames'] = ['angle','V','P','T','Pv','M','E','Q','Tf']\n",
    "Tf0 = mylib.surf_temp_calc_noRT(0,sysparams)\n",
    "sysparams,mass_frac = mylib.update_comp(Tf0,sysparams,runparams)\n",
    "T0 = Tf0\n",
    "V0 = 0\n",
    "Pv0 = mylib.total_vap_press_find(runparams['names'],Tf0,sysparams,runparams)\n",
    "runparams['flow'] = 'subsonic'\n",
    "\n",
    "Pmax = 10*Pv0\n",
    "Pmin = 0.1*Pv0\n",
    "Pdiff_cap = 1e-6*(Pmax-Pmin)\n",
    "n = 0\n",
    "while Pmax-Pmin > Pdiff_cap:\n",
    "    Pmid = 0.5*(Pmax+Pmin)\n",
    "    E0 = 1*(Pv0-Pmid)/(mt.sqrt(2*mt.pi*sysparams['R']*Tf0)*sysparams['m'])\n",
    "    y0 = [V0,T0,0,E0]\n",
    "    outputs = mylib.systemtest(y0,Pmid,0,sysparams,runparams)\n",
    "    if outputs['status'] == 0:\n",
    "        Pmin = Pmid\n",
    "    elif outputs['status'] == 2:\n",
    "        Pmax = Pmid\n",
    "    n+=1\n",
    "    mystr = 'loop {n}, furthest theta = {s:.2f}'.format(n=n,s=outputs['angle'][-1])\n",
    "    print(mystr,end='\\r',flush=True)\n",
    "    \n",
    "if outputs['status'] == 2:\n",
    "    Pmid = Pmin\n",
    "elif outputs['status'] == 0:\n",
    "    Pmid = Pmax\n",
    "\n",
    "time_end = time.time()\n",
    "print('\\ntime elapsed is {:.2f} seconds'.format(time_end-time_start))\n",
    "\n",
    "outputs2 = mylib.systemtest(y0,Pmid,0,sysparams,runparams)"
   ]
  },
  {
   "cell_type": "code",
   "execution_count": 5,
   "id": "55719093-847d-44c1-8a34-633189410bcb",
   "metadata": {},
   "outputs": [
    {
     "name": "stdout",
     "output_type": "stream",
     "text": [
      "M = 0.21 at 10.39 deg\n",
      "STAGE 1 SUCCESSFUL\n"
     ]
    },
    {
     "data": {
      "text/plain": [
       "[<matplotlib.lines.Line2D at 0x11f70ca50>]"
      ]
     },
     "execution_count": 5,
     "metadata": {},
     "output_type": "execute_result"
    },
    {
     "data": {
      "image/png": "[encoded data removed]",
      "text/plain": [
       "<Figure size 640x480 with 1 Axes>"
      ]
     },
     "metadata": {},
     "output_type": "display_data"
    }
   ],
   "source": [
    "div_cap = max(max(outputs['P'],outputs2['P']))*1e-3\n",
    "index = mylib2.find_index_array(outputs['P'],outputs2['P'],div_cap)\n",
    "print('M = {M:.2f} at {A:.2f} deg'.format(M=outputs['M'][index],A=outputs['angle'][index]))\n",
    "print('STAGE 1 SUCCESSFUL')\n",
    "masteroutputs = {}\n",
    "for i in np.arange(0,len(runparams['varnames'])):\n",
    "    myname = runparams['varnames'][i]\n",
    "    myvector = 0.5*(np.array(outputs[myname][0:index])+np.array(outputs2[myname][0:index]))\n",
    "    masteroutputs[myname] = myvector\n",
    "varnames2 = ['V','T','E','Q']\n",
    "\n",
    "plt.plot(outputs['angle'],outputs['M'])\n",
    "plt.plot(outputs2['angle'],outputs2['M'])"
   ]
  },
  {
   "cell_type": "code",
   "execution_count": null,
   "id": "aae9eb70-08a8-4fff-be62-14c682f59499",
   "metadata": {},
   "outputs": [],
   "source": [
    "anglemarker = [masteroutputs['angle'][-1]]\n",
    "\n",
    "m = 0\n",
    "while masteroutputs['M'][-1] < 0.99:\n",
    "\n",
    "    time_start = time.time()\n",
    "    Pmax = 1.05*masteroutputs['P'][-1]\n",
    "    Pmin = 0.95*masteroutputs['P'][-1]\n",
    "    n = 0\n",
    "    V0 = masteroutputs['V'][-1]\n",
    "    T0 = masteroutputs['T'][-1]\n",
    "    xstart = masteroutputs['angle'][-1]\n",
    "    Pdiff_cap = 1e-3*(Pmax-Pmin)\n",
    "    while Pmax-Pmin > Pdiff_cap:\n",
    "        Pmid = 0.5*(Pmax+Pmin)\n",
    "        E0 = 1*(Pv0-Pmid)/(mt.sqrt(2*mt.pi*sysparams['R']*Tf0)*sysparams['m'])\n",
    "        y0 = [V0,T0,0,E0]\n",
    "        outputs = mylib.systemtest(y0,Pmid,xstart,sysparams,runparams)\n",
    "        if outputs['status'] == 0:\n",
    "            Pmin = Pmid\n",
    "        elif outputs['status'] == 2:\n",
    "            Pmax = Pmid\n",
    "        n+=1\n",
    "        #mystr = 'loop {n}, furthest theta = {s:.2f}'.format(n=n,s=outputs['angle'][-1])\n",
    "        #print(mystr,end='\\r',flush=True)\n",
    "    \n",
    "    if outputs['status'] == 2:\n",
    "        Pmid = Pmin\n",
    "    elif outputs['status'] == 0:\n",
    "        Pmid = Pmax\n",
    "\n",
    "    time_end = time.time()\n",
    "    time_elapsed = time_end-time_start\n",
    "\n",
    "    outputs2 = mylib.systemtest(y0,Pmid,xstart,sysparams,runparams)\n",
    "\n",
    "    div_cap = Pdiff_cap*1e2\n",
    "    index = mylib2.find_index_array(outputs['P'],outputs2['P'],div_cap)\n",
    "\n",
    "    for i in np.arange(0,len(runparams['varnames'])):\n",
    "        myname = runparams['varnames'][i]\n",
    "        myvector = 0.5*(np.array(outputs[myname][0:index])+np.array(outputs2[myname][0:index]))\n",
    "        masteroutputs[myname] = np.append(masteroutputs[myname],myvector)\n",
    "\n",
    "    mystr = 'M = {M:.2f} at {d:.2f}, time elapsed = {t:.2f}'.format(M=masteroutputs['M'][-1],d=masteroutputs['angle'][-1],t=time_elapsed)\n",
    "    print(mystr,end='\\r',flush=True)\n",
    "    m = m + 1"
   ]
  },
  {
   "cell_type": "code",
   "execution_count": null,
   "id": "b39acfb2-012a-487a-8c04-4e8a7c5f317a",
   "metadata": {},
   "outputs": [],
   "source": [
    "for i in np.arange(0,len(masteroutputs)):\n",
    "    locals()['d'+runparams['varnames'][i]] = masteroutputs[runparams['varnames'][i]][-1] - masteroutputs[runparams['varnames'][i]][-2]\n",
    "\n",
    "Dtheta = 0.0001\n",
    "currentM = 0\n",
    "while currentM < 1:\n",
    "    V0 = masteroutputs['V'][-1] + dV*Dtheta/dangle\n",
    "    T0 = masteroutputs['T'][-1] + dT*Dtheta/dangle\n",
    "    currentM = V0*((sysparams['Beta']/(1-sysparams['Beta']))*sysparams['Cp']*T0)**(-1/2)\n",
    "    Dtheta += 0.0001\n",
    "\n",
    "E0 = masteroutputs['E'][-1] + dE*Dtheta/dangle\n",
    "Q0 = masteroutputs['Q'][-1] + dQ*Dtheta/dangle\n",
    "P0 = masteroutputs['P'][-1] + dP*Dtheta/dangle\n",
    "xstart = masteroutputs['angle'][-1] + Dtheta\n",
    "\n",
    "y0 = [V0,T0,Q0,E0]\n",
    "runparams['flow'] = 'transonic'\n",
    "outputs = mylib.systemtest(y0,1.02*P0,xstart,sysparams,runparams)"
   ]
  },
  {
   "cell_type": "code",
   "execution_count": null,
   "id": "6bd6fe3b-020a-4ff8-9e2c-743f01bed99f",
   "metadata": {},
   "outputs": [],
   "source": [
    "outputs_fin = {}\n",
    "for i in np.arange(0,len(runparams['varnames'])):\n",
    "    myname = runparams['varnames'][i]\n",
    "    outputs_fin[myname] = np.append(masteroutputs[myname],outputs[myname])\n",
    "\n",
    "foldername = runparams['run_name']\n",
    "os.chdir(home+'/outputs')\n",
    "if os.path.exists(foldername):\n",
    "    os.chdir(foldername)\n",
    "else:\n",
    "    os.mkdir(foldername)\n",
    "    os.chdir(foldername)\n",
    "\n",
    "for i in np.arange(0,len(runparams['varnames'])):\n",
    "    np.savetxt('{s}.txt'.format(s=runparams['varnames'][i]),outputs_fin[runparams['varnames'][i]])"
   ]
  },
  {
   "cell_type": "code",
   "execution_count": null,
   "id": "9faf9bf3-587b-494b-99ad-bf2eaf22d817",
   "metadata": {},
   "outputs": [],
   "source": []
  },
  {
   "cell_type": "code",
   "execution_count": null,
   "id": "63db2f76-c4da-4b45-aa0a-d3b6326ee5b3",
   "metadata": {},
   "outputs": [],
   "source": [
    "fig,ax = plt.subplots(3,1,sharex=True,figsize=(6,8))\n",
    "\n",
    "myangle = np.append(masteroutputs['angle'],outputs['angle'])\n",
    "myP = np.append(masteroutputs['P'],outputs['P'])\n",
    "myPv = np.append(masteroutputs['Pv'],outputs['Pv'])\n",
    "ax[0].plot(myangle,myP,color='black',label='local pressure')\n",
    "# ax[0].plot(myangle,myP,color='black',linestyle='--',label='sat pressure')\n",
    "ax[0].set_yscale('log')\n",
    "# ax[0].legend()\n",
    "ax[0].set_xlim(myangle[0],myangle[-1])\n",
    "ax[0].set_ylabel('pressure [Pa]')\n",
    "\n",
    "myV = np.append(masteroutputs['V'],outputs['V'])\n",
    "ax[1].plot(myangle,myV,color='black')\n",
    "ax[1].set_ylabel('wind speed [m/s]')\n",
    "\n",
    "myT = np.append(masteroutputs['T'],outputs['T'])\n",
    "myTf = np.append(masteroutputs['Tf'],outputs['Tf'])\n",
    "ax[2].plot(myangle,myT,color='black',label='atmospheric temp')\n",
    "ax[2].plot(myangle,myTf,color='black',label='surface temp',linestyle='--')\n",
    "ax[2].legend()\n",
    "ax[2].set_ylabel('temperature [K]')\n",
    "ax[2].set_xlabel(r'$\\theta$')\n",
    "\n",
    "plt.savefig('PVT.pdf',dpi=300,bbox_inches='tight')"
   ]
  },
  {
   "cell_type": "code",
   "execution_count": null,
   "id": "c1991daf-7c2b-458e-bb21-da400d12bf09",
   "metadata": {},
   "outputs": [],
   "source": [
    "master_time_elapsed = (time.time() - master_time_start)/60\n",
    "print('total time elapsed for whole code is {s:.3f} min'.format(s=master_time_elapsed))"
   ]
  }
 ],
 "metadata": {
  "kernelspec": {
   "display_name": "Python 3 (ipykernel)",
   "language": "python",
   "name": "python3"
  },
  "language_info": {
   "codemirror_mode": {
    "name": "ipython",
    "version": 3
   },
   "file_extension": ".py",
   "mimetype": "text/x-python",
   "name": "python",
   "nbconvert_exporter": "python",
   "pygments_lexer": "ipython3",
   "version": "3.13.2"
  }
 },
 "nbformat": 4,
 "nbformat_minor": 5
}
